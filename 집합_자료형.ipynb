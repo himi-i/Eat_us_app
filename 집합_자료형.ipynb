{
  "cells": [
    {
      "cell_type": "markdown",
      "metadata": {
        "id": "view-in-github",
        "colab_type": "text"
      },
      "source": [
        "<a href=\"https://colab.research.google.com/github/himi-i/Eat_us_app/blob/jw/%EC%A7%91%ED%95%A9_%EC%9E%90%EB%A3%8C%ED%98%95.ipynb\" target=\"_parent\"><img src=\"https://colab.research.google.com/assets/colab-badge.svg\" alt=\"Open In Colab\"/></a>"
      ]
    },
    {
      "cell_type": "markdown",
      "id": "673ee8a2",
      "metadata": {
        "id": "673ee8a2"
      },
      "source": [
        "## 집합 자료형\n",
        "파이썬의 집합(set) 자료형은 수학에서의 집합 개념과 유사합니다.\n",
        "\n",
        "1. 중복을 허용하지 않습니다: 집합에는 같은 요소가 두 번 이상 포함될 수 없습니다. 이로 인해, 집합은 중복 요소를 제거하는 데 자주 사용됩니다.\n",
        "2. 순서가 없습니다: 집합은 순서가 없는 컬렉션입니다. 즉, 요소의 인덱스나 위치를 통해 접근할 수 없습니다.\n",
        "3. 가변성: 집합은 요소를 추가하거나 제거할 수 있으며, 이는 집합의 크기가 변경될 수 있음을 의미합니다."
      ]
    },
    {
      "cell_type": "code",
      "execution_count": null,
      "id": "04676fe9",
      "metadata": {
        "id": "04676fe9"
      },
      "outputs": [],
      "source": [
        "A= {1,2,3} # A={} 이건 딕셔너리 .. set() <d이게 빈 집합"
      ]
    },
    {
      "cell_type": "markdown",
      "id": "bb5f82b6",
      "metadata": {
        "id": "bb5f82b6"
      },
      "source": [
        "### 1. 집합 자료형 생성\n",
        "집합은 중괄호 {} 또는 set() 함수를 사용하여 생성할 수 있습니다."
      ]
    },
    {
      "cell_type": "code",
      "execution_count": 3,
      "id": "28fbbf12",
      "metadata": {
        "colab": {
          "base_uri": "https://localhost:8080/"
        },
        "id": "28fbbf12",
        "outputId": "f8a98788-58cb-4ba3-e804-0d90bfadab14"
      },
      "outputs": [
        {
          "output_type": "stream",
          "name": "stdout",
          "text": [
            "{3}\n",
            "{1, 2, 3, 4, 5}\n",
            "{1, 2, 4, 5}\n",
            "{4, 5}\n"
          ]
        }
      ],
      "source": [
        "A={1,2,3}\n",
        "B={3,4,5}\n",
        "print(A&B)\n",
        "print(A|B)\n",
        "print(A^B) # 대칭차집합\n",
        "print(B-A)#B와 A의 차집합"
      ]
    },
    {
      "cell_type": "code",
      "source": [
        "#엄청 많은데 중복데이터를 날리고 싶을때\n",
        "a= {1,1,1,1,2,3,4,4}\n",
        "set(a)"
      ],
      "metadata": {
        "colab": {
          "base_uri": "https://localhost:8080/"
        },
        "id": "fcw0AeQK9F-K",
        "outputId": "c44f1dbb-117b-4265-f3fa-b0763318084b"
      },
      "id": "fcw0AeQK9F-K",
      "execution_count": 4,
      "outputs": [
        {
          "output_type": "execute_result",
          "data": {
            "text/plain": [
              "{1, 2, 3, 4}"
            ]
          },
          "metadata": {},
          "execution_count": 4
        }
      ]
    },
    {
      "cell_type": "markdown",
      "id": "2b670138",
      "metadata": {
        "id": "2b670138"
      },
      "source": [
        "### 2. 집합 연산\n",
        "* 합집합: 두 집합의 모든 요소를 포함하는 새 집합을 반환합니다. | 연산자 또는 union() 메서드를 사용할 수 있습니다.\n",
        "* 교집합: 두 집합에 공통으로 포함된 요소만을 포함하는 새 집합을 반환합니다. & 연산자 또는 intersection() 메서드를 사용할 수 있습니다.\n",
        "* 차집합: 한 집합에는 포함되지만 다른 집합에는 포함되지 않는 요소들로 구성된 새 집합을 반환합니다. - 연산자 또는 difference() 메서드를 사용할 수 있습니다.\n",
        "* 대칭 차집합: 두 집합 중 하나에는 포함되지만 둘 모두에는 포함되지 않는 요소들로 구성된 새 집합을 반환합니다. ^ 연산자 또는 symmetric_difference() 메서드를 사용할 수 있습니다."
      ]
    },
    {
      "cell_type": "code",
      "source": [
        "A={1,2,3}\n",
        "B={3,4,5}\n",
        "print(A&B)\n",
        "print(A|B)\n",
        "print(A^B) # 대칭차집합\n",
        "print(B-A)#B와 A의 차집합"
      ],
      "metadata": {
        "id": "Ew-mO-HR9CS7"
      },
      "id": "Ew-mO-HR9CS7",
      "execution_count": null,
      "outputs": []
    },
    {
      "cell_type": "code",
      "execution_count": null,
      "id": "bb19305a",
      "metadata": {
        "id": "bb19305a"
      },
      "outputs": [],
      "source": []
    },
    {
      "cell_type": "markdown",
      "id": "9c46b2f2",
      "metadata": {
        "id": "9c46b2f2"
      },
      "source": [
        "### 3. 집합 자료형 전용 함수\n",
        "* add(element): 집합에 요소를 추가합니다.\n",
        "* update(element): 집합에 많은 요소를 한번에 추가합니다.\n",
        "* remove(element): 집합에서 지정된 요소를 제거합니다. 요소가 집합에 없으면 오류가 발생합니다."
      ]
    },
    {
      "cell_type": "code",
      "execution_count": 5,
      "id": "e10e8bf7",
      "metadata": {
        "colab": {
          "base_uri": "https://localhost:8080/"
        },
        "id": "e10e8bf7",
        "outputId": "c6cb4cd2-87e7-4cc4-e65b-eef856b8e91a"
      },
      "outputs": [
        {
          "output_type": "execute_result",
          "data": {
            "text/plain": [
              "{1, 2, 3, 4}"
            ]
          },
          "metadata": {},
          "execution_count": 5
        }
      ],
      "source": [
        "a.add(4)\n",
        "a"
      ]
    },
    {
      "cell_type": "code",
      "source": [
        "a.update([3,4,5,6,7])\n",
        "a#여러개 한번에 추가할때\n",
        "a.remove(6)\n",
        "a"
      ],
      "metadata": {
        "colab": {
          "base_uri": "https://localhost:8080/"
        },
        "id": "Nv3eSewY9m2X",
        "outputId": "3dab1abd-072c-4072-b416-38296a4816e7"
      },
      "id": "Nv3eSewY9m2X",
      "execution_count": 7,
      "outputs": [
        {
          "output_type": "execute_result",
          "data": {
            "text/plain": [
              "{1, 2, 3, 4, 5, 7}"
            ]
          },
          "metadata": {},
          "execution_count": 7
        }
      ]
    },
    {
      "cell_type": "markdown",
      "id": "46f36d9a",
      "metadata": {
        "id": "46f36d9a"
      },
      "source": [
        "### 4. 부분 집합 확인\n",
        "부분 집합(subset)을 확인하는 것은 두 집합 사이의 관계를 이해하는 데 중요합니다. 한 집합 A가 다른 집합 B의 부분 집합이라는 것은 A의 모든 요소가 B에도 포함된다는 의미입니다. <= 연산자를 사용하여 A <= B 형태로 표현할 수 있습니다."
      ]
    },
    {
      "cell_type": "code",
      "source": [
        "A ={1,2}\n",
        "B = {1,2,3,4,5}\n",
        "\n",
        "A <= B #A가 B의 부분집합이라는 의미"
      ],
      "metadata": {
        "colab": {
          "base_uri": "https://localhost:8080/"
        },
        "id": "rLK3dIdS9mT6",
        "outputId": "7be0e3d8-9dac-445e-9395-29355f19bfd8"
      },
      "id": "rLK3dIdS9mT6",
      "execution_count": 8,
      "outputs": [
        {
          "output_type": "execute_result",
          "data": {
            "text/plain": [
              "True"
            ]
          },
          "metadata": {},
          "execution_count": 8
        }
      ]
    },
    {
      "cell_type": "code",
      "execution_count": null,
      "id": "b31f2392",
      "metadata": {
        "id": "b31f2392"
      },
      "outputs": [],
      "source": []
    },
    {
      "cell_type": "markdown",
      "id": "b95519cb",
      "metadata": {
        "id": "b95519cb"
      },
      "source": [
        "### 5. 연습문제\n",
        "1. 리스트 [1, 2, 2, 3, 4, 4, 4]에서 중복을 제거하여 집합을 만드세요."
      ]
    },
    {
      "cell_type": "code",
      "execution_count": 9,
      "id": "78932879",
      "metadata": {
        "colab": {
          "base_uri": "https://localhost:8080/"
        },
        "id": "78932879",
        "outputId": "ec8d2974-c1b9-49da-99b6-7c87258f4bfe"
      },
      "outputs": [
        {
          "output_type": "execute_result",
          "data": {
            "text/plain": [
              "{1, 2, 3, 4}"
            ]
          },
          "metadata": {},
          "execution_count": 9
        }
      ],
      "source": [
        "a=[1,2,2,3,4,4,4]\n",
        "set(a)"
      ]
    },
    {
      "cell_type": "markdown",
      "id": "1445827f",
      "metadata": {
        "id": "1445827f"
      },
      "source": [
        "2. 주어진 집합 {1, 2, 3}에 요소 4를 추가하세요."
      ]
    },
    {
      "cell_type": "code",
      "source": [
        "a={1,2,3}\n",
        "a.add(4)\n",
        "a"
      ],
      "metadata": {
        "colab": {
          "base_uri": "https://localhost:8080/"
        },
        "id": "bsazKipB-H9J",
        "outputId": "d338de9a-9724-44f8-883d-725b040eddd0"
      },
      "id": "bsazKipB-H9J",
      "execution_count": 14,
      "outputs": [
        {
          "output_type": "execute_result",
          "data": {
            "text/plain": [
              "{1, 2, 3, 4}"
            ]
          },
          "metadata": {},
          "execution_count": 14
        }
      ]
    },
    {
      "cell_type": "markdown",
      "id": "1ee615bf",
      "metadata": {
        "id": "1ee615bf"
      },
      "source": [
        "3. 집합 {1, 2, 3, 4}에서 요소 3을 제거하세요."
      ]
    },
    {
      "cell_type": "code",
      "execution_count": 15,
      "id": "6e627e69",
      "metadata": {
        "id": "6e627e69"
      },
      "outputs": [],
      "source": [
        "a.remove(3)#del은 순서가 없어서 안됨\n",
        "a"
      ]
    },
    {
      "cell_type": "markdown",
      "id": "de84c03f",
      "metadata": {
        "id": "de84c03f"
      },
      "source": [
        "4. 집합 A = {1, 2, 3}와 집합 B = {3, 4, 5}의 합집합을 구하세요."
      ]
    },
    {
      "cell_type": "code",
      "execution_count": 16,
      "id": "8063cae1",
      "metadata": {
        "colab": {
          "base_uri": "https://localhost:8080/"
        },
        "id": "8063cae1",
        "outputId": "415a7d3b-92e0-4f4c-9025-6942965b6fd9"
      },
      "outputs": [
        {
          "output_type": "execute_result",
          "data": {
            "text/plain": [
              "{1, 2, 3, 4, 5}"
            ]
          },
          "metadata": {},
          "execution_count": 16
        }
      ],
      "source": [
        "A={1,2,3}\n",
        "B={3,4,5}\n",
        "A|B"
      ]
    },
    {
      "cell_type": "markdown",
      "id": "c9d25b03",
      "metadata": {
        "id": "c9d25b03"
      },
      "source": [
        "5. 위의 집합 A와 B의 교집합을 구하세요."
      ]
    },
    {
      "cell_type": "code",
      "execution_count": 17,
      "id": "bc1c3ee1",
      "metadata": {
        "colab": {
          "base_uri": "https://localhost:8080/"
        },
        "id": "bc1c3ee1",
        "outputId": "32958b38-a070-4ab5-b6bd-b67ea5475e62"
      },
      "outputs": [
        {
          "output_type": "execute_result",
          "data": {
            "text/plain": [
              "{3}"
            ]
          },
          "metadata": {},
          "execution_count": 17
        }
      ],
      "source": [
        "A&B"
      ]
    },
    {
      "cell_type": "markdown",
      "id": "e08bf2e0",
      "metadata": {
        "id": "e08bf2e0"
      },
      "source": [
        "6. 집합 A에서 집합 B를 뺀 차집합을 구하세요."
      ]
    },
    {
      "cell_type": "code",
      "execution_count": 18,
      "id": "cfa1d56e",
      "metadata": {
        "colab": {
          "base_uri": "https://localhost:8080/"
        },
        "id": "cfa1d56e",
        "outputId": "c57e260e-ec71-4df2-bd1d-0968e31e3ab8"
      },
      "outputs": [
        {
          "output_type": "execute_result",
          "data": {
            "text/plain": [
              "{1, 2}"
            ]
          },
          "metadata": {},
          "execution_count": 18
        }
      ],
      "source": [
        "A-B"
      ]
    },
    {
      "cell_type": "markdown",
      "id": "048f965f",
      "metadata": {
        "id": "048f965f"
      },
      "source": [
        "7. 집합 A와 B의 대칭 차집합을 구하세요."
      ]
    },
    {
      "cell_type": "code",
      "execution_count": 27,
      "id": "800e5366",
      "metadata": {
        "colab": {
          "base_uri": "https://localhost:8080/"
        },
        "id": "800e5366",
        "outputId": "bfd1f54f-955a-498b-d21b-f69bf043ae64"
      },
      "outputs": [
        {
          "output_type": "execute_result",
          "data": {
            "text/plain": [
              "[1, 2, 3]"
            ]
          },
          "metadata": {},
          "execution_count": 27
        }
      ],
      "source": [
        "A^B"
      ]
    },
    {
      "cell_type": "markdown",
      "id": "b1da2e81",
      "metadata": {
        "id": "b1da2e81"
      },
      "source": [
        "8. 집합 {5, 10, 3, 15, 2, 20}에서 최대값과 최소값을 찾으세요."
      ]
    },
    {
      "cell_type": "code",
      "execution_count": 28,
      "id": "791bc853",
      "metadata": {
        "colab": {
          "base_uri": "https://localhost:8080/"
        },
        "id": "791bc853",
        "outputId": "9e069bd0-d5db-4dc3-b2ee-dfe4f5635684"
      },
      "outputs": [
        {
          "output_type": "execute_result",
          "data": {
            "text/plain": [
              "(20, 2)"
            ]
          },
          "metadata": {},
          "execution_count": 28
        }
      ],
      "source": [
        "A=  {5, 10, 3, 15, 2, 20}\n",
        "max(A),min(A)"
      ]
    },
    {
      "cell_type": "markdown",
      "id": "32c7e71d",
      "metadata": {
        "id": "32c7e71d"
      },
      "source": [
        "9. {1, 2}가 {1, 2, 3, 4}의 부분 집합인지 확인하세요."
      ]
    },
    {
      "cell_type": "code",
      "execution_count": 23,
      "id": "7a7ef38a",
      "metadata": {
        "colab": {
          "base_uri": "https://localhost:8080/"
        },
        "id": "7a7ef38a",
        "outputId": "2d351970-f7d5-4d5d-b6ff-6e3ea5eeed4a"
      },
      "outputs": [
        {
          "output_type": "execute_result",
          "data": {
            "text/plain": [
              "True"
            ]
          },
          "metadata": {},
          "execution_count": 23
        }
      ],
      "source": [
        "{1,2} <= {1,2,3,4} # in 이 아님!"
      ]
    },
    {
      "cell_type": "markdown",
      "id": "1342b575",
      "metadata": {
        "id": "1342b575"
      },
      "source": [
        "10. 집합 {1, 2, 3, 4, 5}의 길이를 구하세요."
      ]
    },
    {
      "cell_type": "code",
      "execution_count": 20,
      "id": "4e67d576",
      "metadata": {
        "colab": {
          "base_uri": "https://localhost:8080/"
        },
        "id": "4e67d576",
        "outputId": "965f2eca-5672-40c5-dc6a-dfc09b2233d8"
      },
      "outputs": [
        {
          "output_type": "execute_result",
          "data": {
            "text/plain": [
              "5"
            ]
          },
          "metadata": {},
          "execution_count": 20
        }
      ],
      "source": [
        "a={1,2,3,4,5}\n",
        "len(a)"
      ]
    },
    {
      "cell_type": "code",
      "source": [],
      "metadata": {
        "id": "Sgm6_jGJ-_Yb"
      },
      "id": "Sgm6_jGJ-_Yb",
      "execution_count": null,
      "outputs": []
    }
  ],
  "metadata": {
    "kernelspec": {
      "display_name": "Python 3 (ipykernel)",
      "language": "python",
      "name": "python3"
    },
    "language_info": {
      "codemirror_mode": {
        "name": "ipython",
        "version": 3
      },
      "file_extension": ".py",
      "mimetype": "text/x-python",
      "name": "python",
      "nbconvert_exporter": "python",
      "pygments_lexer": "ipython3",
      "version": "3.11.5"
    },
    "colab": {
      "provenance": [],
      "include_colab_link": true
    }
  },
  "nbformat": 4,
  "nbformat_minor": 5
}